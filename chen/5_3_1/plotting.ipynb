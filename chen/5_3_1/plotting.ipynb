{
 "cells": [
  {
   "cell_type": "code",
   "execution_count": 2,
   "metadata": {},
   "outputs": [],
   "source": [
    "import numpy as np\n",
    "import matplotlib.pyplot as plt\n",
    "import pandas as pd\n",
    "import pickle"
   ]
  },
  {
   "cell_type": "code",
   "execution_count": 6,
   "metadata": {},
   "outputs": [
    {
     "name": "stdout",
     "output_type": "stream",
     "text": [
      "       NxN  L_1 Error  L_1 Order L_inf Error  L_inf Order  Iterations\n",
      "0    20x20  9.723e-04        NaN   2.683e-03          NaN          25\n",
      "1    40x40  1.350e-04   2.848868   5.787e-04     2.212915          64\n",
      "2    80x80  1.450e-05   3.218357   9.375e-05     2.625759         153\n",
      "3  160x160  1.325e-06   3.452089   1.785e-05     2.392881         349\n",
      "4  320x320  1.070e-07   3.630749   3.481e-06     2.358474         784\n",
      "5  640x640  7.650e-09   3.805592   5.756e-07     2.596376        1743\n"
     ]
    }
   ],
   "source": [
    "# with open('saved/weno3.pkl', 'rb') as foo:\n",
    "with open('5_3_1.pkl', 'rb') as foo:\n",
    "    data = pickle.load(foo)\n",
    "\n",
    "# [errors,L1s,orders_1,Linfs,orders_inf,iters,N]\n",
    "data[6] = data[6] - 1\n",
    "data[6] =  [f\"{int(num)}x{int(num)}\" for num in data[6]]\n",
    "data[1] = [f\"{num:.3e}\" for num in data[1]]\n",
    "data[3] = [f\"{num:.3e}\" for num in data[3]]\n",
    "data[5] = [int(num) for num in data[5]]\n",
    "# data[5] = [f\"{num:.}\" for num in data[1]]\n",
    "\n",
    "df = pd.DataFrame({\n",
    "    'NxN': data[6],\n",
    "    'L_1 Error': data[1],\n",
    "    'L_1 Order': data[2],\n",
    "    'L_inf Error': data[3],\n",
    "    'L_inf Order': data[4],\n",
    "    'Iterations': data[5]\n",
    "})\n",
    "\n",
    "print(df)"
   ]
  },
  {
   "cell_type": "code",
   "execution_count": 9,
   "metadata": {},
   "outputs": [
    {
     "name": "stdout",
     "output_type": "stream",
     "text": [
      "[0.1547433  0.04507801 0.01282305 0.00319145]\n"
     ]
    }
   ],
   "source": [
    "print(data[1])"
   ]
  },
  {
   "cell_type": "code",
   "execution_count": 10,
   "metadata": {},
   "outputs": [
    {
     "name": "stdout",
     "output_type": "stream",
     "text": [
      "1.23e+03\n",
      "1.23e-04\n",
      "9.88e+03\n"
     ]
    }
   ],
   "source": [
    "# Example vector of floats\n",
    "vector = [1234.5678, 0.0001234, 9876.54321]\n",
    "\n",
    "# Print each element in scientific notation\n",
    "for num in vector:\n",
    "    print(f\"{num:.2e}\")\n"
   ]
  },
  {
   "cell_type": "code",
   "execution_count": null,
   "metadata": {},
   "outputs": [],
   "source": []
  }
 ],
 "metadata": {
  "kernelspec": {
   "display_name": "Python 3",
   "language": "python",
   "name": "python3"
  },
  "language_info": {
   "codemirror_mode": {
    "name": "ipython",
    "version": 3
   },
   "file_extension": ".py",
   "mimetype": "text/x-python",
   "name": "python",
   "nbconvert_exporter": "python",
   "pygments_lexer": "ipython3",
   "version": "3.10.4"
  }
 },
 "nbformat": 4,
 "nbformat_minor": 2
}
