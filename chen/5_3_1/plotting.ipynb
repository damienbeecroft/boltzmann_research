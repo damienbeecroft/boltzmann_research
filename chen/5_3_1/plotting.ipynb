{
 "cells": [
  {
   "cell_type": "code",
   "execution_count": 1,
   "metadata": {},
   "outputs": [],
   "source": [
    "import numpy as np\n",
    "import matplotlib.pyplot as plt\n",
    "import pandas as pd\n",
    "import pickle"
   ]
  },
  {
   "cell_type": "code",
   "execution_count": 2,
   "metadata": {},
   "outputs": [
    {
     "name": "stdout",
     "output_type": "stream",
     "text": [
      "      N  L_1 Error  L_1 Order L_inf Error  L_inf Order  Iterations\n",
      "0    41  1.009e-03        NaN   3.171e-03          NaN          81\n",
      "1    81  1.503e-04   2.746754   6.168e-04     2.362200         209\n",
      "2   161  1.961e-05   2.938453   1.201e-04     2.360192         505\n",
      "3   321  2.222e-06   3.141978   2.451e-05     2.293147        1154\n",
      "4   641  2.419e-07   3.199434   4.894e-06     2.324276        2582\n",
      "5  1281  2.510e-08   3.268100   9.391e-07     2.381678        5718\n",
      "6  2561  2.410e-09   3.380740   1.616e-07     2.538457       12622\n"
     ]
    }
   ],
   "source": [
    "# with open('saved/weno3.pkl', 'rb') as foo:\n",
    "with open('5_1_1.pkl', 'rb') as foo:\n",
    "    data = pickle.load(foo)\n",
    "\n",
    "# [errors,L1s,orders_1,Linfs,orders_inf,iters,N]\n",
    "\n",
    "data[1] = [f\"{num:.3e}\" for num in data[1]]\n",
    "data[3] = [f\"{num:.3e}\" for num in data[3]]\n",
    "data[5] = [int(num) for num in data[5]]\n",
    "# data[5] = [f\"{num:.}\" for num in data[1]]\n",
    "\n",
    "df = pd.DataFrame({\n",
    "    'N': data[6],\n",
    "    'L_1 Error': data[1],\n",
    "    'L_1 Order': data[2],\n",
    "    'L_inf Error': data[3],\n",
    "    'L_inf Order': data[4],\n",
    "    'Iterations': data[5]\n",
    "})\n",
    "\n",
    "print(df)"
   ]
  },
  {
   "cell_type": "code",
   "execution_count": 9,
   "metadata": {},
   "outputs": [
    {
     "name": "stdout",
     "output_type": "stream",
     "text": [
      "[0.1547433  0.04507801 0.01282305 0.00319145]\n"
     ]
    }
   ],
   "source": [
    "print(data[1])"
   ]
  },
  {
   "cell_type": "code",
   "execution_count": 10,
   "metadata": {},
   "outputs": [
    {
     "name": "stdout",
     "output_type": "stream",
     "text": [
      "1.23e+03\n",
      "1.23e-04\n",
      "9.88e+03\n"
     ]
    }
   ],
   "source": [
    "# Example vector of floats\n",
    "vector = [1234.5678, 0.0001234, 9876.54321]\n",
    "\n",
    "# Print each element in scientific notation\n",
    "for num in vector:\n",
    "    print(f\"{num:.2e}\")\n"
   ]
  },
  {
   "cell_type": "code",
   "execution_count": null,
   "metadata": {},
   "outputs": [],
   "source": []
  }
 ],
 "metadata": {
  "kernelspec": {
   "display_name": "Python 3",
   "language": "python",
   "name": "python3"
  },
  "language_info": {
   "codemirror_mode": {
    "name": "ipython",
    "version": 3
   },
   "file_extension": ".py",
   "mimetype": "text/x-python",
   "name": "python",
   "nbconvert_exporter": "python",
   "pygments_lexer": "ipython3",
   "version": "3.10.4"
  }
 },
 "nbformat": 4,
 "nbformat_minor": 2
}
