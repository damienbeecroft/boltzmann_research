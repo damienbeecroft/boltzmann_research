{
 "cells": [
  {
   "cell_type": "code",
   "execution_count": 22,
   "metadata": {},
   "outputs": [],
   "source": [
    "import numpy as np\n",
    "\n",
    "save_me = True # Do you want to save the intermediate solution data for plotting?\n",
    "save_freq = 100 # Frequency at which the state of the system is saved\n",
    "max_iter = 5000 # Maximum number of iterations for the method\n",
    "C = 1 # Constant from rescaling of the loss collision term (not sure what this should be)\n",
    "Lx = 60 # The length of the spatial domain. The interval will be [-30,30]\n",
    "Nx = 100 # The resolution of the spatial grid\n",
    "Lv = 26.22 # Length of the velocity interval for both dimensions. The interval will be [-13.11,13.11]\n",
    "Nv = 32 # Number of collocation points in each dimension of the velocity domain\n",
    "Ntheta = 4 # Number of collocation points to integrate over for circle integral in collision operator\n",
    "# v = 1 # Advection velocity of the equation\n",
    "Boltz = 1; d = 2; gamma = 2; a = 0.5 # Refer to the paper for the significance of these variables\n",
    "ML = 1.4 # Mach number\n",
    "pL = 1 # Left density condition\n",
    "pR = 3 * ML**2 / (ML**2 + 2) # Right density condition\n",
    "p0 = lambda x: (np.tanh(a * x) + 1)/(2*(pR - pL)) + pL # Initial density profile\n",
    "uL = np.sqrt(2) * ML # Left bulk x-velocity condition\n",
    "uR = (pL * uL)/pR # Right bulk x-velocity condition\n",
    "u0 = lambda x: (np.tanh(a * x) + 1)/(2*(uR - uL)) + uL # Initial bulk x-velocity distribution\n",
    "# u0 = lambda x: np.array([(np.tanh(a * x) + 1)/(2*(uR - uL)) + uL],[np.zeros(x.shape)]) # Initial bulk x-velocity distribution\n",
    "TL = 1 # Left temperature condition\n",
    "TR = (4 * ML**2 - 1)/(3 * pR) # Right temperature condition\n",
    "T0 = lambda x: (np.tanh(a * x) + 1)/(2*(TR - TL)) + TL # Initial temperature profile\n",
    "f0 = lambda X, V1, V2: p0(X) * np.exp(-((V1 - u0(X))**2 + V2**2)/(2 * Boltz * T0(X))) / ((2 * np.pi * Boltz * T0(X))**(d/2)) # Initial particle phase space distribution\n",
    "# Initialize grids\n",
    "xb = np.linspace(-Lx/2,Lx/2,Nx) # spatial cell boundaries\n",
    "dx = xb[1] - xb[0]\n",
    "x_grid = np.concatenate(([-dx/2 + xb[0]], xb + (dx/2))) # spatial cell centers\n",
    "n = x_grid.size\n",
    "dv = Lv / Nv\n",
    "v_grid = np.arange(-Lv/2 + dv / 2, Lv/2, dv)\n",
    "dt = (0.5 * dx)/(Lv/2)\n",
    "S = Lv/(3 + np.sqrt(2))\n",
    "R = 2*S\n",
    "X, V1, V2 = np.meshgrid(x_grid,v_grid,v_grid,indexing='ij')\n",
    "V = V1[0,:,:]"
   ]
  },
  {
   "cell_type": "code",
   "execution_count": 23,
   "metadata": {},
   "outputs": [
    {
     "data": {
      "text/plain": [
       "11.879805827022128"
      ]
     },
     "execution_count": 23,
     "metadata": {},
     "output_type": "execute_result"
    }
   ],
   "source": [
    "R"
   ]
  },
  {
   "cell_type": "code",
   "execution_count": 19,
   "metadata": {},
   "outputs": [
    {
     "data": {
      "text/plain": [
       "array([-12.7003125, -11.8809375, -11.0615625, -10.2421875,  -9.4228125,\n",
       "        -8.6034375,  -7.7840625,  -6.9646875,  -6.1453125,  -5.3259375,\n",
       "        -4.5065625,  -3.6871875,  -2.8678125,  -2.0484375,  -1.2290625,\n",
       "        -0.4096875,   0.4096875,   1.2290625,   2.0484375,   2.8678125,\n",
       "         3.6871875,   4.5065625,   5.3259375,   6.1453125,   6.9646875,\n",
       "         7.7840625,   8.6034375,   9.4228125,  10.2421875,  11.0615625,\n",
       "        11.8809375,  12.7003125])"
      ]
     },
     "execution_count": 19,
     "metadata": {},
     "output_type": "execute_result"
    }
   ],
   "source": [
    "v_grid"
   ]
  },
  {
   "cell_type": "code",
   "execution_count": 20,
   "metadata": {},
   "outputs": [
    {
     "data": {
      "text/plain": [
       "0.819375"
      ]
     },
     "execution_count": 20,
     "metadata": {},
     "output_type": "execute_result"
    }
   ],
   "source": [
    "dv"
   ]
  },
  {
   "cell_type": "code",
   "execution_count": 21,
   "metadata": {},
   "outputs": [
    {
     "data": {
      "text/plain": [
       "0.8193750000000009"
      ]
     },
     "execution_count": 21,
     "metadata": {},
     "output_type": "execute_result"
    }
   ],
   "source": [
    "v_grid[1] - v_grid[0]"
   ]
  },
  {
   "cell_type": "code",
   "execution_count": 2,
   "metadata": {},
   "outputs": [],
   "source": [
    "# import numpy as np\n",
    "# import matplotlib.pyplot as plt\n",
    "\n",
    "# # Define the range and resolution\n",
    "# # x = np.linspace(-2, 2, 100)\n",
    "# # y = np.linspace(-2, 2, 100)\n",
    "# # x, y = np.meshgrid(x, y)\n",
    "\n",
    "# # Define the 2D Gaussian function\n",
    "# sigma = 0.5  # Standard deviation\n",
    "# A = (1 / (2 * np.pi * sigma**2)) * np.exp(- 0.01 * (V1_**2 + 2 * V2_**2) / (2 * sigma**2))\n",
    "\n",
    "# # Plot the matrix\n",
    "# plt.imshow(A, extent=[-2, 2, -2, 2], cmap='viridis', origin='lower')\n",
    "# plt.colorbar(label='Intensity')\n",
    "# plt.xlabel('X axis')\n",
    "# plt.ylabel('Y axis')\n",
    "# plt.title('2D Gaussian Distribution')\n",
    "\n",
    "# # Show the plot\n",
    "# plt.show()"
   ]
  },
  {
   "cell_type": "code",
   "execution_count": 4,
   "metadata": {},
   "outputs": [],
   "source": [
    "gamma = 0\n",
    "b_gamma = 1 / (2 * np.pi)\n",
    "\n",
    "N = 64\n",
    "\n",
    "S = 3\n",
    "R = 2 * S\n",
    "\n",
    "L = (3 * np.sqrt(2) + 1) / 2 * S\n",
    "Ntheta = 4\n",
    "\n",
    "dv = 2 * L / N\n",
    "v = np.arange(-L + dv / 2, L, dv)\n",
    "vv1, vv2 = np.meshgrid(v, v)"
   ]
  },
  {
   "cell_type": "code",
   "execution_count": 6,
   "metadata": {},
   "outputs": [
    {
     "data": {
      "text/plain": [
       "(64,)"
      ]
     },
     "execution_count": 6,
     "metadata": {},
     "output_type": "execute_result"
    }
   ],
   "source": [
    "v.shape\n"
   ]
  },
  {
   "cell_type": "code",
   "execution_count": null,
   "metadata": {},
   "outputs": [],
   "source": []
  }
 ],
 "metadata": {
  "kernelspec": {
   "display_name": "Python 3",
   "language": "python",
   "name": "python3"
  },
  "language_info": {
   "codemirror_mode": {
    "name": "ipython",
    "version": 3
   },
   "file_extension": ".py",
   "mimetype": "text/x-python",
   "name": "python",
   "nbconvert_exporter": "python",
   "pygments_lexer": "ipython3",
   "version": "3.10.4"
  },
  "orig_nbformat": 4
 },
 "nbformat": 4,
 "nbformat_minor": 2
}
